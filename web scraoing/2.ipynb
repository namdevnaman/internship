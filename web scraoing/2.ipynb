{
 "cells": [
  {
   "cell_type": "code",
   "execution_count": 2,
   "metadata": {},
   "outputs": [],
   "source": [
    "import requests\n",
    "from bs4 import BeautifulSoup\n",
    "import pandas as pd"
   ]
  },
  {
   "cell_type": "code",
   "execution_count": 3,
   "metadata": {},
   "outputs": [],
   "source": [
    "url = \"https://www.shine.com/job-search/data-analyst-jobs-in-bangalore-1?q=data-analyst&loc=Bangalore\"\n",
    "headers = {\n",
    "    \"User-Agent\":\"Mozilla/5.0 (Windows NT 10.0; Win64; x64) AppleWebKit/537.36 (KHTML, like Gecko) Chrome/128.0.0.0 Safari/537.36\"\n",
    "           }\n",
    "response = requests.get(url, headers = headers)"
   ]
  },
  {
   "cell_type": "code",
   "execution_count": 4,
   "metadata": {},
   "outputs": [],
   "source": [
    "\n",
    "soup = BeautifulSoup(response.text, 'html.parser')"
   ]
  },
  {
   "cell_type": "code",
   "execution_count": null,
   "metadata": {},
   "outputs": [],
   "source": [
    "# Titles\n",
    "titles = soup.find_all(\"strong\", class_=\"jobCard_pReplaceH2__xWmHg\")\n",
    "title = [tit.text for tit in titles]\n",
    "\n",
    "# Company name\n",
    "c_name = soup.find_all(\"div\", class_ = \"jobCard_jobCard_cName__mYnow\")\n",
    "c_name = [name.text for name in c_name]\n",
    "\n",
    "# Location\n",
    "loc = soup.find_all(\"div\", class_= \"jobCard_jobCard_lists_item__YxRkV jobCard_locationIcon__zrWt2\")\n",
    "loc = [loc.text for l in loc]\n",
    "\n",
    "\n",
    "# Exp\n",
    "exp = soup.find_all(\"div\", class_ = \" jobCard_jobCard_lists_item__YxRkV jobCard_jobIcon__3FB1t\")\n",
    "exp = [experience.text for experience in exp]"
   ]
  },
  {
   "cell_type": "code",
   "execution_count": null,
   "metadata": {},
   "outputs": [],
   "source": [
    "# Creating Dataset\n",
    "df = pd.DataFrame({\n",
    "    \"Title\": title,\n",
    "    \"Company\":c_name,\n",
    "    \"Location\":loc,\n",
    "    \"Experience\": exp\n",
    "})"
   ]
  },
  {
   "cell_type": "code",
   "execution_count": null,
   "metadata": {},
   "outputs": [],
   "source": [
    "df.head(10)"
   ]
  }
 ],
 "metadata": {
  "kernelspec": {
   "display_name": "Python 3",
   "language": "python",
   "name": "python3"
  },
  "language_info": {
   "codemirror_mode": {
    "name": "ipython",
    "version": 3
   },
   "file_extension": ".py",
   "mimetype": "text/x-python",
   "name": "python",
   "nbconvert_exporter": "python",
   "pygments_lexer": "ipython3",
   "version": "3.12.4"
  }
 },
 "nbformat": 4,
 "nbformat_minor": 2
}
