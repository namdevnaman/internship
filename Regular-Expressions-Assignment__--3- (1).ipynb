{
  "metadata": {
    "kernelspec": {
      "name": "python",
      "display_name": "Python (Pyodide)",
      "language": "python"
    },
    "language_info": {
      "codemirror_mode": {
        "name": "python",
        "version": 3
      },
      "file_extension": ".py",
      "mimetype": "text/x-python",
      "name": "python",
      "nbconvert_exporter": "python",
      "pygments_lexer": "ipython3",
      "version": "3.8"
    }
  },
  "nbformat_minor": 4,
  "nbformat": 4,
  "cells": [
    {
      "cell_type": "markdown",
      "source": "# Question 1: Replace Space, Comma, and Dot with Colon",
      "metadata": {}
    },
    {
      "cell_type": "code",
      "source": "import re\n\ndef replace_punctuation_with_colon(text):\n    # Replace space, comma, and dot with a colon\n    result = re.sub(r'[ ,.]', ':', text)\n    return result\n\nsample_text = 'Python Exercises, PHP exercises.'\noutput = replace_punctuation_with_colon(sample_text)\nprint(output)  ",
      "metadata": {
        "trusted": true
      },
      "outputs": [
        {
          "name": "stdout",
          "text": "Python:Exercises::PHP:exercises:\n",
          "output_type": "stream"
        }
      ],
      "execution_count": 61
    },
    {
      "cell_type": "markdown",
      "source": "# Question 2: Create DataFrame and Remove Special Characters",
      "metadata": {}
    },
    {
      "cell_type": "code",
      "source": "import pandas as pd\nimport re\n\ndata = {'SUMMARY': ['hello, world!', 'XXXXX test', '123four, five:; six...']}\ndf = pd.DataFrame(data)\n\n# Remove special characters except words\ndf['SUMMARY'] = df['SUMMARY'].apply(lambda x: re.sub(r'[^a-zA-Z\\s]', '', x))\n\nprint(df)\n",
      "metadata": {
        "trusted": true
      },
      "outputs": [
        {
          "name": "stdout",
          "text": "         SUMMARY\n0    hello world\n1     XXXXX test\n2  four five six\n",
          "output_type": "stream"
        }
      ],
      "execution_count": 62
    },
    {
      "cell_type": "markdown",
      "source": "# Question 3: Find Words with at Least 4 Characters",
      "metadata": {}
    },
    {
      "cell_type": "code",
      "source": "def find_long_words(text):\n    pattern = re.compile(r'\\b\\w{4,}\\b')\n    return pattern.findall(text)\n\nsample_text = \"This is a sample text with some long words like Python, regex, and pandas.\"\nlong_words = find_long_words(sample_text)\nprint(long_words)\n",
      "metadata": {
        "trusted": true
      },
      "outputs": [
        {
          "name": "stdout",
          "text": "['This', 'sample', 'text', 'with', 'some', 'long', 'words', 'like', 'Python', 'regex', 'pandas']\n",
          "output_type": "stream"
        }
      ],
      "execution_count": 63
    },
    {
      "cell_type": "markdown",
      "source": "# Question 4: Find Three, Four, and Five Character Words",
      "metadata": {}
    },
    {
      "cell_type": "code",
      "source": "def find_specific_length_words(text, length):\n    pattern = re.compile(r'\\b\\w{%d}\\b' % length)\n    return pattern.findall(text)\n\nsample_text = \"This is a sample text with some short and long words.\"\nthree_char_words = find_specific_length_words(sample_text, 3)\nfour_char_words = find_specific_length_words(sample_text, 4)\nfive_char_words = find_specific_length_words(sample_text, 5)\n\nprint(\"Three-character words:\", three_char_words)\nprint(\"Four-character words:\", four_char_words)\nprint(\"Five-character words:\", five_char_words)\n",
      "metadata": {
        "trusted": true
      },
      "outputs": [
        {
          "name": "stdout",
          "text": "Three-character words: ['and']\nFour-character words: ['This', 'text', 'with', 'some', 'long']\nFive-character words: ['short', 'words']\n",
          "output_type": "stream"
        }
      ],
      "execution_count": 64
    },
    {
      "cell_type": "markdown",
      "source": "# Question 5: Remove Parentheses from Strings",
      "metadata": {}
    },
    {
      "cell_type": "code",
      "source": "import re\n\ndef remove_parentheses(strings):\n    pattern = re.compile(r'\\s*\\([^)]*\\)\\s*')\n    return [pattern.sub('', s) for s in strings]\n\nsample_strings = [\"example (.com)\", \"hr@fliprobo (.com)\", \"github (.com)\",\n                  \"Hello (Data Science World)\", \"Data (Scientist)\"]\n\ncleaned_strings = remove_parentheses(sample_strings)\nfor s in cleaned_strings:\n    print(s)\n",
      "metadata": {
        "trusted": true,
        "scrolled": true
      },
      "outputs": [
        {
          "name": "stdout",
          "text": "example\nhr@fliprobo\ngithub\nHello\nData\n",
          "output_type": "stream"
        }
      ],
      "execution_count": 65
    },
    {
      "cell_type": "markdown",
      "source": "# Question 6- Write a python program to remove the parenthesis area from the text stored in the text file using Regular Expression.",
      "metadata": {}
    },
    {
      "cell_type": "code",
      "source": "import re\n\ndef remove_parentheses_from_file(file_path):\n    try:\n        # Read the content from the file\n        with open(file_path, 'r') as file:\n            text = file.read()\n\n        # Remove content within parentheses using a regular expression\n        cleaned_text = re.sub(r'\\([^)]*\\)', '', text)\n\n        # Write the cleaned content back to the file\n        with open(file_path, 'w') as file:\n            file.write(cleaned_text)\n\n        print(f\"Removed content within parentheses from {file_path}.\")\n    except FileNotFoundError:\n        print(f\"File {file_path} not found.\")\n\n# Example usage\nfile_path = 'sample_text.txt' \nremove_parentheses_from_file(file_path)\n",
      "metadata": {
        "trusted": true
      },
      "outputs": [
        {
          "name": "stdout",
          "text": "Removed content within parentheses from sample_text.txt.\n",
          "output_type": "stream"
        }
      ],
      "execution_count": 66
    },
    {
      "cell_type": "markdown",
      "source": "# Question 7: Split String into Uppercase Letters",
      "metadata": {}
    },
    {
      "cell_type": "code",
      "source": "def split_uppercase(text):\n    pattern = re.compile(r'[A-Z][a-z]*')\n    return pattern.findall(text)\n\nsample_text = \"ImportanceOfRegularExpressionsInPython\"\nuppercase_words = split_uppercase(sample_text)\nprint(uppercase_words)",
      "metadata": {
        "trusted": true
      },
      "outputs": [
        {
          "name": "stdout",
          "text": "['Importance', 'Of', 'Regular', 'Expressions', 'In', 'Python']\n",
          "output_type": "stream"
        }
      ],
      "execution_count": 67
    },
    {
      "cell_type": "markdown",
      "source": "# Question 8: Insert Spaces between Words Starting with Numbers",
      "metadata": {}
    },
    {
      "cell_type": "code",
      "source": "def insert_spaces_numbers(text):\n    pattern = re.compile(r'(?<=[0-9])(?=[A-Za-z])')\n    return pattern.sub(' ', text)\n\nsample_text = \"RegularExpression1IsAn2ImportantTopic3InPython\"\nformatted_text = insert_spaces_numbers(sample_text)\nprint(formatted_text)",
      "metadata": {
        "trusted": true
      },
      "outputs": [
        {
          "name": "stdout",
          "text": "RegularExpression1 IsAn2 ImportantTopic3 InPython\n",
          "output_type": "stream"
        }
      ],
      "execution_count": 68
    },
    {
      "cell_type": "markdown",
      "source": "# Question 9: Insert Spaces between Words Starting with Capital Letters or Numbers",
      "metadata": {}
    },
    {
      "cell_type": "code",
      "source": "def insert_spaces_capital(text):\n    pattern = re.compile(r'(?<=[A-Z0-9])(?=[A-Z])')\n    return pattern.sub(' ', text)\n\nsample_text = \"RegularExpression1IsAn2ImportantTopic3InPython\"\nformatted_text = insert_spaces_capital(sample_text)\nprint(formatted_text)\n# Expected Output: RegularExpression 1 IsAn 2 Important",
      "metadata": {
        "trusted": true
      },
      "outputs": [
        {
          "name": "stdout",
          "text": "RegularExpression1 IsAn2 ImportantTopic3 InPython\n",
          "output_type": "stream"
        }
      ],
      "execution_count": 69
    },
    {
      "cell_type": "markdown",
      "source": "# Question 10: Extract First 6 Letters of Each Country",
      "metadata": {}
    },
    {
      "cell_type": "code",
      "source": "import pandas as pd\n\n# Replace 'path_to_file.csv' with the actual path to the downloaded file\ndf = pd.read_csv(\"happiness_score_dataset.csv\")\n\n# Extract the first 6 letters of each country\ndf[\"first_six_letters\"] = df[\"Country\"].str[:6]\n\n# Display the resulting DataFrame\nprint(df[[\"Country\", \"first_six_letters\"]])",
      "metadata": {
        "trusted": true
      },
      "outputs": [
        {
          "name": "stdout",
          "text": "         Country first_six_letters\n0    Switzerland            Switze\n1        Iceland            Icelan\n2        Denmark            Denmar\n3         Norway            Norway\n4         Canada            Canada\n..           ...               ...\n153       Rwanda            Rwanda\n154        Benin             Benin\n155        Syria             Syria\n156      Burundi            Burund\n157         Togo              Togo\n\n[158 rows x 2 columns]\n",
          "output_type": "stream"
        }
      ],
      "execution_count": 70
    },
    {
      "cell_type": "markdown",
      "source": "# Question 11: Match String with Upper and Lowercase Letters, Numbers, and Underscores",
      "metadata": {}
    },
    {
      "cell_type": "code",
      "source": "import re\n\ndef validate_string(s):\n    pattern = re.compile(r'^[a-zA-Z0-9_]+$')\n    return bool(pattern.match(s))\n\nsample_string = \"Hello_World123\"\nprint(validate_string(sample_string))\n",
      "metadata": {
        "trusted": true
      },
      "outputs": [
        {
          "name": "stdout",
          "text": "True\n",
          "output_type": "stream"
        }
      ],
      "execution_count": 71
    },
    {
      "cell_type": "markdown",
      "source": "# Question 12: String Starting with a Specific Number",
      "metadata": {}
    },
    {
      "cell_type": "code",
      "source": "def starts_with_number(s, number):\n    return s.startswith(str(number))\n\nsample_string = \"123abc\"\nprint(starts_with_number(sample_string, 123))  \n",
      "metadata": {
        "trusted": true
      },
      "outputs": [
        {
          "name": "stdout",
          "text": "True\n",
          "output_type": "stream"
        }
      ],
      "execution_count": 72
    },
    {
      "cell_type": "markdown",
      "source": "# Question 13: Remove Leading Zeros from an IP Address",
      "metadata": {}
    },
    {
      "cell_type": "code",
      "source": "def remove_leading_zeros(ip_address):\n    components = ip_address.split(\".\")\n    cleaned_components = [str(int(comp)) for comp in components]\n    return \".\".join(cleaned_components)\n\nsample_ip = \"192.010.001.100\"\nprint(remove_leading_zeros(sample_ip))  # Expected Output: 192.10.1.100\n",
      "metadata": {
        "trusted": true
      },
      "outputs": [
        {
          "name": "stdout",
          "text": "192.10.1.100\n",
          "output_type": "stream"
        }
      ],
      "execution_count": 73
    },
    {
      "cell_type": "markdown",
      "source": "# Question 14: Extract Date String in Desired Format",
      "metadata": {}
    },
    {
      "cell_type": "code",
      "source": "def extract_date(sample_text):\n    pattern = re.compile(r'([A-Z][a-z]+ \\d{1,2}(?:st|nd|rd|th) \\d{4})')\n    match = pattern.search(sample_text)\n    if match:\n        return match.group(1)\n    else:\n        return \"Date not found\"\n\nsample_text = \"On August 15th 1947 that India was declared independent...\"\nprint(extract_date(sample_text))  \n",
      "metadata": {
        "trusted": true
      },
      "outputs": [
        {
          "name": "stdout",
          "text": "August 15th 1947\n",
          "output_type": "stream"
        }
      ],
      "execution_count": 74
    },
    {
      "cell_type": "markdown",
      "source": "# Question 15: Search Literal Strings in a Text",
      "metadata": {}
    },
    {
      "cell_type": "code",
      "source": "def search_words(text, words):\n    found_words = [word for word in words if word in text]\n    return found_words\n\nsample_text = \"The quick brown fox jumps over the lazy dog.\"\nsearched_words = [\"fox\", \"dog\", \"horse\"]\nprint(search_words(sample_text, searched_words))\n",
      "metadata": {
        "trusted": true
      },
      "outputs": [
        {
          "name": "stdout",
          "text": "['fox', 'dog']\n",
          "output_type": "stream"
        }
      ],
      "execution_count": 75
    },
    {
      "cell_type": "markdown",
      "source": "# Question 16: Search Literal String and Find Location",
      "metadata": {}
    },
    {
      "cell_type": "code",
      "source": "def find_word_location(text, word):\n    match = re.search(word, text)\n    if match:\n        return match.start()\n    else:\n        return -1\n\nsample_text = \"The quick brown fox jumps over the lazy dog.\"\nsearched_word = \"fox\"\nprint(find_word_location(sample_text, searched_word))  \n",
      "metadata": {
        "trusted": true
      },
      "outputs": [
        {
          "name": "stdout",
          "text": "16\n",
          "output_type": "stream"
        }
      ],
      "execution_count": 76
    },
    {
      "cell_type": "markdown",
      "source": "# Question 17: Find Substrings within a String",
      "metadata": {}
    },
    {
      "cell_type": "code",
      "source": "import re\n\ndef find_substrings(text, pattern):\n    return re.findall(pattern, text)\n\nsample_text = \"Python exercises, PHP exercises, C# exercises\"\npattern = r'\\b\\w+\\s+exercises\\b'\nprint(find_substrings(sample_text, pattern))\n",
      "metadata": {
        "trusted": true
      },
      "outputs": [
        {
          "name": "stdout",
          "text": "['Python exercises', 'PHP exercises']\n",
          "output_type": "stream"
        }
      ],
      "execution_count": 77
    },
    {
      "cell_type": "markdown",
      "source": "# Question 18: Find Occurrence and Position of Substrings",
      "metadata": {}
    },
    {
      "cell_type": "code",
      "source": "import re\n\ndef find_occurrence_and_position(text, pattern):\n    matches = [(match.group(), match.start()) for match in re.finditer(pattern, text)]\n    return matches\n\nsample_text = \"Python exercises, PHP exercises, C# exercises\"\npattern = r'\\b\\w+\\s+exercises\\b'\nprint(find_occurrence_and_position(sample_text, pattern))\n",
      "metadata": {
        "trusted": true
      },
      "outputs": [
        {
          "name": "stdout",
          "text": "[('Python exercises', 0), ('PHP exercises', 18)]\n",
          "output_type": "stream"
        }
      ],
      "execution_count": 78
    },
    {
      "cell_type": "markdown",
      "source": "# Question 19: Convert Date Format from yyyy-mm-dd to dd-mm-yyyy",
      "metadata": {}
    },
    {
      "cell_type": "code",
      "source": "import datetime\n\ndef convert_date_format(date_str):\n    # List of possible date formats to try\n    date_formats = (\"%Y-%m-%d\", \"%Y-%m\", \"%d/%m/%Y\")\n    \n    for date_format in date_formats:\n        try:\n            if date_format == \"%Y-%m\" and len(date_str) == 7:\n                # Add default day if input is in YYYY-MM format\n                date_str += \"-01\"\n            date_obj = datetime.datetime.strptime(date_str, date_format)\n            # Format date in the desired output format\n            formatted_date = date_obj.strftime(\"%d-%m-%Y\")\n            return formatted_date\n        except ValueError:\n            continue\n\n    return \"Invalid date format\"\n\n# Example usage\ninput_date = \"05/05/2003\"\noutput_date = convert_date_format(input_date)\nprint(f\"Converted date: {output_date}\")\n",
      "metadata": {
        "trusted": true
      },
      "outputs": [
        {
          "name": "stdout",
          "text": "Converted date: 05-05-2003\n",
          "output_type": "stream"
        }
      ],
      "execution_count": 79
    },
    {
      "cell_type": "markdown",
      "source": "# Question 20: Find Decimal Numbers with Precision of 1 or 2",
      "metadata": {}
    },
    {
      "cell_type": "code",
      "source": "def find_decimal_numbers(text):\n    pattern = re.compile(r'\\b\\d+\\.\\d{1,2}\\b')\n    return pattern.findall(text)\n\nsample_text = \"01.12 0132.123 2.31875 145.8 3.01 27.25 0.25\"\ndecimal_numbers = find_decimal_numbers(sample_text)\nprint(decimal_numbers)\n",
      "metadata": {
        "trusted": true
      },
      "outputs": [
        {
          "name": "stdout",
          "text": "['01.12', '145.8', '3.01', '27.25', '0.25']\n",
          "output_type": "stream"
        }
      ],
      "execution_count": 80
    },
    {
      "cell_type": "markdown",
      "source": "# Question 21: Separate and Print Numbers and Their Positions",
      "metadata": {}
    },
    {
      "cell_type": "code",
      "source": "def separate_numbers_with_positions(text):\n    pattern = re.compile(r'\\b\\d+\\b')\n    matches = [(match.group(), match.start()) for match in re.finditer(pattern, text)]\n    return matches\n\nsample_text = \"The price of 10 apples is 50, and 20 bananas cost 100.\"\nnumber_positions = separate_numbers_with_positions(sample_text)\nfor number, position in number_positions:\n    print(f\"Number: {number}, Position: {position}\")\n",
      "metadata": {
        "trusted": true
      },
      "outputs": [
        {
          "name": "stdout",
          "text": "Number: 10, Position: 13\nNumber: 50, Position: 26\nNumber: 20, Position: 34\nNumber: 100, Position: 50\n",
          "output_type": "stream"
        }
      ],
      "execution_count": 81
    },
    {
      "cell_type": "markdown",
      "source": "# Question 22: Extract Maximum Numeric Value from a String",
      "metadata": {}
    },
    {
      "cell_type": "code",
      "source": "def extract_max_numeric_value(text):\n    pattern = re.compile(r'\\b\\d+\\b')\n    numbers = [int(match.group()) for match in re.finditer(pattern, text)]\n    if numbers:\n        return max(numbers)\n    else:\n        return None\n\nsample_text = \"My marks in each semester are: 947, 896, 926, 524, 734, 950, 642\"\nmax_value = extract_max_numeric_value(sample_text)\nprint(f\"Maximum value: {max_value}\")\n",
      "metadata": {
        "trusted": true
      },
      "outputs": [
        {
          "name": "stdout",
          "text": "Maximum value: 950\n",
          "output_type": "stream"
        }
      ],
      "execution_count": 82
    },
    {
      "cell_type": "markdown",
      "source": "# Question 23: Insert Spaces between Words Starting with Capital Letters",
      "metadata": {}
    },
    {
      "cell_type": "code",
      "source": "def insert_spaces_capital(text):\n    pattern = re.compile(r'(?<=[a-z])(?=[A-Z])')\n    return pattern.sub(' ', text)\n\nsample_text = \"RegularExpressionIsAnImportantTopicInPython\"\nformatted_text = insert_spaces_capital(sample_text)\nprint(formatted_text)\n",
      "metadata": {
        "trusted": true
      },
      "outputs": [
        {
          "name": "stdout",
          "text": "Regular Expression Is An Important Topic In Python\n",
          "output_type": "stream"
        }
      ],
      "execution_count": 83
    },
    {
      "cell_type": "markdown",
      "source": "# Question 24: Regex for Sequences of One Upper Case Letter Followed by Lower Case Letters",
      "metadata": {}
    },
    {
      "cell_type": "code",
      "source": "def find_uppercase_sequences(text):\n    pattern = re.compile(r'[A-Z][a-z]+')\n    return pattern.findall(text)\n\nsample_text = \"ThisIsAnExampleOfCamelCase\"\nsequences = find_uppercase_sequences(sample_text)\nprint(sequences)\n",
      "metadata": {
        "trusted": true
      },
      "outputs": [
        {
          "name": "stdout",
          "text": "['This', 'Is', 'An', 'Example', 'Of', 'Camel', 'Case']\n",
          "output_type": "stream"
        }
      ],
      "execution_count": 84
    },
    {
      "cell_type": "markdown",
      "source": "# Question 25: Remove Continuous Duplicate Words from Sentence",
      "metadata": {}
    },
    {
      "cell_type": "code",
      "source": "import re\n\ndef remove_continuous_duplicates(text):\n    pattern = re.compile(r'\\b(\\w+)(?:\\W+\\1\\b)+', flags=re.IGNORECASE)\n    return pattern.sub(r'\\1', text)\n\nsample_text = \"Hello hello world world\"\noutput = remove_continuous_duplicates(sample_text)\nprint(output)  # Expected Output: Hello hello world\n",
      "metadata": {
        "trusted": true
      },
      "outputs": [
        {
          "name": "stdout",
          "text": "Hello world\n",
          "output_type": "stream"
        }
      ],
      "execution_count": 85
    },
    {
      "cell_type": "markdown",
      "source": "# Question 26: Accept String Ending with Alphanumeric Character",
      "metadata": {}
    },
    {
      "cell_type": "code",
      "source": "import re\n\ndef validate_ending_alphanumeric(s):\n    pattern = re.compile(r'^.*[a-zA-Z0-9]$')\n    return bool(pattern.match(s))\n\nsample_string = \"Hello123\"\nprint(validate_ending_alphanumeric(sample_string))  # Expected Output: True\n",
      "metadata": {
        "trusted": true
      },
      "outputs": [
        {
          "name": "stdout",
          "text": "True\n",
          "output_type": "stream"
        }
      ],
      "execution_count": 86
    },
    {
      "cell_type": "markdown",
      "source": "# Question 27: Extract Hashtags",
      "metadata": {}
    },
    {
      "cell_type": "code",
      "source": "def extract_hashtags(text):\n    pattern = re.compile(r'#\\w+')\n    return pattern.findall(text)\n\nsample_text = \"\"\"RT @kapil_kausik: #Doltiwal I mean #xyzabc is \"hurt\" by #Demonetization as the same has rendered USELESS <ed><U+00A0><U+00BD><ed><U+00B1><U+0089> \"acquired funds\" No wo\"\"\"\nhashtags = extract_hashtags(sample_text)\nprint(hashtags)\n",
      "metadata": {
        "trusted": true
      },
      "outputs": [
        {
          "name": "stdout",
          "text": "['#Doltiwal', '#xyzabc', '#Demonetization']\n",
          "output_type": "stream"
        }
      ],
      "execution_count": 87
    },
    {
      "cell_type": "markdown",
      "source": "# Question 28: Remove <U+..> Symbols",
      "metadata": {}
    },
    {
      "cell_type": "code",
      "source": "def remove_u_plus_symbols(text):\n    pattern = re.compile(r'<U\\+\\w+>')\n    return pattern.sub('', text)\n\nsample_text = \"@Jags123456 Bharat band on 28??<ed><U+00A0><U+00BD><ed><U+00B8><U+0082>Those who are protesting #demonetization are all different party leaders\"\ncleaned_text = remove_u_plus_symbols(sample_text)\nprint(cleaned_text)\n",
      "metadata": {
        "trusted": true
      },
      "outputs": [
        {
          "name": "stdout",
          "text": "@Jags123456 Bharat band on 28??<ed><ed>Those who are protesting #demonetization are all different party leaders\n",
          "output_type": "stream"
        }
      ],
      "execution_count": 88
    },
    {
      "cell_type": "markdown",
      "source": "# Question 30: Remove Words of Length 2 to 4",
      "metadata": {}
    },
    {
      "cell_type": "code",
      "source": "def remove_short_words(text):\n    pattern = re.compile(r'\\b\\w{2,4}\\b')\n    return pattern.sub('', text)\n\nsample_text = \"The following example creates an ArrayList with a capacity of 50 elements. 4 elements are then added to the ArrayList and the ArrayList is trimmed accordingly.\"\noutput = remove_short_words(sample_text)\nprint(output)\n",
      "metadata": {
        "trusted": true
      },
      "outputs": [
        {
          "name": "stdout",
          "text": " following example creates  ArrayList  a capacity   elements. 4 elements   added   ArrayList   ArrayList  trimmed accordingly.\n",
          "output_type": "stream"
        }
      ],
      "execution_count": 89
    },
    {
      "cell_type": "markdown",
      "source": "# Question 29: Extract Dates from Text File",
      "metadata": {}
    },
    {
      "cell_type": "markdown",
      "source": "## Step 1: Create the text file",
      "metadata": {}
    },
    {
      "cell_type": "code",
      "source": "# Sample text to be stored in the file\nsample_text = \"Ron was born on 12-09-1992 and he was admitted to school on 15-12-1999.\"\n\n# Create a file and write the sample text to it\nwith open(\"sample_text.txt\", \"w\") as file:\n    file.write(sample_text)",
      "metadata": {
        "trusted": true
      },
      "outputs": [],
      "execution_count": 90
    },
    {
      "cell_type": "markdown",
      "source": "## Step 2: Write the program to extract dates",
      "metadata": {}
    },
    {
      "cell_type": "code",
      "source": "import re\n\n# Step 1: Read the text from the file\nwith open(\"sample_text.txt\", \"r\") as file:\n    text = file.read()\n\n# Step 2: Use a regular expression to find all dates in the format dd-mm-yyyy\ndate_pattern = r'\\b\\d{2}-\\d{2}-\\d{4}\\b'\ndates = re.findall(date_pattern, text)\n\n# Step 3: Print the extracted dates\nprint(\"Extracted dates:\", dates)\n",
      "metadata": {
        "trusted": true
      },
      "outputs": [
        {
          "name": "stdout",
          "text": "Extracted dates: ['12-09-1992', '15-12-1999']\n",
          "output_type": "stream"
        }
      ],
      "execution_count": 91
    },
    {
      "cell_type": "code",
      "source": "",
      "metadata": {
        "trusted": true
      },
      "outputs": [],
      "execution_count": null
    }
  ]
}