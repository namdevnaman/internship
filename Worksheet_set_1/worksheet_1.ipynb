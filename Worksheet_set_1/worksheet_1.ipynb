{
 "cells": [
  {
   "cell_type": "markdown",
   "id": "60065c7c",
   "metadata": {},
   "source": [
    "## Python Worksheet"
   ]
  },
  {
   "cell_type": "markdown",
   "id": "85962bca",
   "metadata": {},
   "source": [
    "* Multiple Choice Questions: *"
   ]
  },
  {
   "cell_type": "markdown",
   "id": "0b926c5a",
   "metadata": {},
   "source": [
    "1. %\n",
    "2. 0\n",
    "3. 24\n",
    "4. 2\n",
    "5. 6\n",
    "6. the finally block will be executed no matter if the try block raises an error or not.\n",
    "7. It is used to raise an exception.\n",
    "8. in defining a generator"
   ]
  },
  {
   "cell_type": "markdown",
   "id": "8e96c5b1",
   "metadata": {},
   "source": [
    "* Multiple Correct Answers: *"
   ]
  },
  {
   "cell_type": "markdown",
   "id": "9758c153",
   "metadata": {},
   "source": [
    "9.  A and C\n",
    "10. A and B"
   ]
  },
  {
   "cell_type": "code",
   "execution_count": 1,
   "id": "d47bd842",
   "metadata": {},
   "outputs": [
    {
     "name": "stdout",
     "output_type": "stream",
     "text": [
      "Factorial of 4 is 24\n"
     ]
    }
   ],
   "source": [
    "# 11. Factorial Program\n",
    "\n",
    "def factorial(n):\n",
    "    if n == 0:\n",
    "        return 1\n",
    "    else:\n",
    "        return n * factorial(n-1)\n",
    "\n",
    "number = int(input(\"Enter a number: \"))\n",
    "print(\"Factorial of\", number, \"is\", factorial(number))\n"
   ]
  },
  {
   "cell_type": "code",
   "execution_count": 2,
   "id": "60f68b9e",
   "metadata": {},
   "outputs": [
    {
     "name": "stdout",
     "output_type": "stream",
     "text": [
      "4 is a composite number\n"
     ]
    }
   ],
   "source": [
    "# 12. Prime or Composite Program\n",
    "\n",
    "def is_prime(n):\n",
    "    if n <= 1:\n",
    "        return False\n",
    "    for i in range(2, int(n**0.5) + 1):\n",
    "        if n % i == 0:\n",
    "            return False\n",
    "    return True\n",
    "\n",
    "number = int(input(\"Enter a number: \"))\n",
    "if is_prime(number):\n",
    "    print(number, \"is a prime number\")\n",
    "else:\n",
    "    print(number, \"is a composite number\")\n"
   ]
  },
  {
   "cell_type": "code",
   "execution_count": 3,
   "id": "c9636599",
   "metadata": {},
   "outputs": [
    {
     "name": "stdout",
     "output_type": "stream",
     "text": [
      "5 is a palindrome\n"
     ]
    }
   ],
   "source": [
    "# 13. Palindrome Program\n",
    "\n",
    "def is_palindrome(s):\n",
    "    return s == s[::-1]\n",
    "\n",
    "string = input(\"Enter a string: \")\n",
    "if is_palindrome(string):\n",
    "    print(string, \"is a palindrome\")\n",
    "else:\n",
    "    print(string, \"is not a palindrome\")\n"
   ]
  },
  {
   "cell_type": "code",
   "execution_count": 5,
   "id": "b51c2ada",
   "metadata": {},
   "outputs": [
    {
     "name": "stdout",
     "output_type": "stream",
     "text": [
      "The third side is 5.385164807134504\n"
     ]
    }
   ],
   "source": [
    "# 14. Third Side of Right-Angled Triangle\n",
    "\n",
    "import math\n",
    "\n",
    "def third_side(a, b):\n",
    "    return math.sqrt(a**2 + b**2)\n",
    "\n",
    "a = float(input(\"Enter side a: \"))\n",
    "b = float(input(\"Enter side b: \"))\n",
    "print(\"The third side is\", third_side(a, b))\n"
   ]
  },
  {
   "cell_type": "code",
   "execution_count": null,
   "id": "0305c732",
   "metadata": {},
   "outputs": [],
   "source": [
    "# 15. Frequency of Characters\n",
    "\n",
    "def char_frequency(s):\n",
    "    freq = {}\n",
    "    for char in s:\n",
    "        if char in freq:\n",
    "            freq[char] += 1\n",
    "        else:\n",
    "            freq[char] = 1\n",
    "    return freq\n",
    "\n",
    "string = input(\"Enter a string: \")\n",
    "print(\"Character frequencies:\", char_frequency(string))\n"
   ]
  },
  {
   "cell_type": "code",
   "execution_count": null,
   "id": "d39715fb",
   "metadata": {},
   "outputs": [],
   "source": []
  }
 ],
 "metadata": {
  "kernelspec": {
   "display_name": "Python 3 (ipykernel)",
   "language": "python",
   "name": "python3"
  },
  "language_info": {
   "codemirror_mode": {
    "name": "ipython",
    "version": 3
   },
   "file_extension": ".py",
   "mimetype": "text/x-python",
   "name": "python",
   "nbconvert_exporter": "python",
   "pygments_lexer": "ipython3",
   "version": "3.11.3"
  }
 },
 "nbformat": 4,
 "nbformat_minor": 5
}
