{
 "cells": [
  {
   "cell_type": "code",
   "execution_count": 1,
   "metadata": {},
   "outputs": [],
   "source": [
    "import requests\n",
    "from bs4 import BeautifulSoup\n",
    "import pandas as pd"
   ]
  },
  {
   "cell_type": "code",
   "execution_count": 2,
   "metadata": {},
   "outputs": [],
   "source": [
    "url = \"https://www.imdb.com/list/ls056092300/\"\n",
    "headers = {\n",
    "    \"User-Agent\":\"Mozilla/5.0 (Windows NT 10.0; Win64; x64) AppleWebKit/537.36 (KHTML, like Gecko) Chrome/128.0.0.0 Safari/537.36\"\n",
    "           }\n",
    "response = requests.get(url, headers = headers)"
   ]
  },
  {
   "cell_type": "code",
   "execution_count": 3,
   "metadata": {},
   "outputs": [],
   "source": [
    "soup = BeautifulSoup(response.text, 'html.parser')"
   ]
  },
  {
   "cell_type": "code",
   "execution_count": 4,
   "metadata": {},
   "outputs": [
    {
     "name": "stdout",
     "output_type": "stream",
     "text": [
      "[<h3 class=\"ipc-title__text\">1. Ship of Theseus</h3>, <h3 class=\"ipc-title__text\">2. Iruvar</h3>, <h3 class=\"ipc-title__text\">3. Kaagaz Ke Phool</h3>, <h3 class=\"ipc-title__text\">4. Lagaan: Once Upon a Time in India</h3>, <h3 class=\"ipc-title__text\">5. Pather Panchali</h3>, <h3 class=\"ipc-title__text\">6. Charulata</h3>, <h3 class=\"ipc-title__text\">7. Rang De Basanti</h3>, <h3 class=\"ipc-title__text\">8. Dev.D</h3>, <h3 class=\"ipc-title__text\">9. 3 Idiots</h3>, <h3 class=\"ipc-title__text\">10. Awaara</h3>, <h3 class=\"ipc-title__text\">11. Nayakan</h3>, <h3 class=\"ipc-title__text\">12. Aparajito</h3>, <h3 class=\"ipc-title__text\">13. Pushpaka Vimana</h3>, <h3 class=\"ipc-title__text\">14. Pyaasa</h3>, <h3 class=\"ipc-title__text\">15. Ghatashraddha</h3>, <h3 class=\"ipc-title__text\">16. Sholay</h3>, <h3 class=\"ipc-title__text\">17. Aradhana</h3>, <h3 class=\"ipc-title__text\">18. Do Ankhen Barah Haath</h3>, <h3 class=\"ipc-title__text\">19. Bombay</h3>, <h3 class=\"ipc-title__text\">20. Neecha Nagar</h3>, <h3 class=\"ipc-title__text\">21. Do Bigha Zamin</h3>, <h3 class=\"ipc-title__text\">22. Garm Hava</h3>, <h3 class=\"ipc-title__text\">23. Piravi</h3>, <h3 class=\"ipc-title__text\">24. Mughal-E-Azam</h3>, <h3 class=\"ipc-title__text\">25. Amma Ariyan</h3>, <h3 class=\"ipc-title__text\">More to explore</h3>, <h3 class=\"ipc-title__text\">Recently viewed</h3>]\n"
     ]
    }
   ],
   "source": [
    "# Extracting title\n",
    "movies = soup.find_all('h3', class_= 'ipc-title__text')\n",
    "print(movies)\n",
    "titles = [movie.get_text() for movie in movies]\n",
    "\n",
    "# Extracting rating\n",
    "ratings = soup.find_all('span', class_= 'ipc-rating-star--rating')\n",
    "rating = [rating.get_text() for rating in ratings]\n",
    "\n",
    "# Extracting year\n",
    "years = soup.find_all('span', class_= 'sc-b189961a-8 hCbzGp dli-title-metadata-item')\n",
    "year = [year.get_text() for year in years[::3] ]"
   ]
  },
  {
   "cell_type": "code",
   "execution_count": null,
   "metadata": {},
   "outputs": [],
   "source": [
    "len(titles)\n",
    "len(rating)\n",
    "len(year)\n",
    "# Creating Dataframe\n",
    "# df = pd.DataFrame(columns=[titles, rating, year])\n",
    "# df\n",
    "\n",
    "\n"
   ]
  },
  {
   "cell_type": "code",
   "execution_count": null,
   "metadata": {},
   "outputs": [],
   "source": []
  }
 ],
 "metadata": {
  "kernelspec": {
   "display_name": "Python 3",
   "language": "python",
   "name": "python3"
  },
  "language_info": {
   "codemirror_mode": {
    "name": "ipython",
    "version": 3
   },
   "file_extension": ".py",
   "mimetype": "text/x-python",
   "name": "python",
   "nbconvert_exporter": "python",
   "pygments_lexer": "ipython3",
   "version": "3.12.4"
  }
 },
 "nbformat": 4,
 "nbformat_minor": 2
}
